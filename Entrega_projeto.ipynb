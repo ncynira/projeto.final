{
 "cells": [
  {
   "cell_type": "markdown",
   "metadata": {},
   "source": [
    "Importando as bibliotecas necessárias\n"
   ]
  },
  {
   "cell_type": "code",
   "execution_count": 91,
   "metadata": {},
   "outputs": [],
   "source": [
    "import pandas as pd\n",
    "import requests\n",
    "import pdb\n",
    "from plyer import notification\n",
    "from datetime import datetime\n",
    "import matplotlib.pyplot as plt\n",
    "import sqlite3\n",
    "%matplotlib inline\n"
   ]
  },
  {
   "cell_type": "markdown",
   "metadata": {},
   "source": [
    "Conectando com a API"
   ]
  },
  {
   "cell_type": "code",
   "execution_count": 92,
   "metadata": {},
   "outputs": [],
   "source": [
    "url = \"https://restcountries.com/v3.1/all\"\n",
    "response = requests.get(url)"
   ]
  },
  {
   "cell_type": "markdown",
   "metadata": {},
   "source": [
    "Criando uma função de alerta para o status da conexão"
   ]
  },
  {
   "cell_type": "code",
   "execution_count": 93,
   "metadata": {},
   "outputs": [],
   "source": [
    "def alerta(codigo, base, etapa):\n",
    "    now = datetime.now()\n",
    "    formatted_now = now.strftime(\"%d/%m/%Y %H:%M:%S\")\n",
    "\n",
    "    msg = f\"Status do carregamento da base {base} na etapa {etapa}.\\n{formatted_now}\"\n",
    "\n",
    "    if response.status_code < 200 or response.status_code > 299:\n",
    "        title = f'Erro na conexão com a API. Código status: {response.status_code}'\n",
    "    else:\n",
    "        title = f'Conexão com a API bem-sucedida. Código status: {response.status_code}'\n",
    "        dados = response.json()\n",
    "        df = pd.DataFrame(dados)\n",
    "\n",
    "    notification.notify(\n",
    "            title=title,\n",
    "            message=msg,\n",
    "            app_name='alerta',\n",
    "            timeout=10\n",
    "        )\n",
    "\n",
    "alerta(codigo = response.status_code,\n",
    "        base = url,\n",
    "        etapa = \"Importação API\")"
   ]
  },
  {
   "cell_type": "markdown",
   "metadata": {},
   "source": [
    "Função para realizar o deploy (salvar em arquivo CSV e banco de dados SQLite)\n"
   ]
  },
  {
   "cell_type": "code",
   "execution_count": 94,
   "metadata": {},
   "outputs": [],
   "source": [
    "def deploy(df_formatado, destino_csv, destino_db):\n",
    "    try:\n",
    "        # Salvar o DataFrame em um arquivo CSV\n",
    "        df_formatado.to_csv(destino_csv, index=False)\n",
    "        alerta(codigo=200, base=destino_csv, etapa=\"Salvamento CSV\")\n",
    "\n",
    "        # Salvar o DataFrame em um banco de dados SQLite\n",
    "        conn = sqlite3.connect(destino_db)\n",
    "        df_formatado.to_sql('dados_formatados', conn, index=False, if_exists='replace')\n",
    "        conn.close()\n",
    "        alerta(codigo=200, base=destino_db, etapa=\"Salvamento SQLite\")\n",
    "\n",
    "    except Exception as e:\n",
    "        alerta(codigo=500, base=\"Deploy\", etapa=\"Erro no Salvamento\")\n",
    "        print(f\"Erro no salvamento: {str(e)}\")\n"
   ]
  },
  {
   "cell_type": "markdown",
   "metadata": {},
   "source": [
    "Formando um Dataframe"
   ]
  },
  {
   "cell_type": "code",
   "execution_count": 95,
   "metadata": {},
   "outputs": [],
   "source": [
    "if response.status_code >= 200 and response.status_code <= 299:\n",
    "    dados = response.json()\n",
    "    df = pd.DataFrame(dados)\n",
    "\n",
    "    df_formatado = pd.DataFrame(dados)\n",
    "    df_formatado['Nome'] = df_formatado['name'].apply(lambda x: x['common'])\n",
    "    df_formatado['Mapa'] = df_formatado['maps'].apply(lambda x: x['googleMaps'])\n",
    "    df_formatado['Região'] = df_formatado['region']\n",
    "    df_formatado['População'] = df_formatado['population'].astype(float)  \n",
    "    df_formatado['Área'] = df_formatado['area'].astype(float) \n",
    "    \n",
    "    df_formatado['Idiomas'] = df_formatado['languages'].apply(lambda x: ', '.join(x.values()) if isinstance(x, dict) else 'N/A')\n",
    "        \n",
    "    df_formatado['Nome'] = df_formatado['Nome'].astype(str)\n",
    "    df_formatado['Região'] = df_formatado['Região'].astype(str)\n",
    "    df_formatado['Mapa'] = df_formatado['Mapa'].astype(str)\n",
    "    \n",
    "    colunas_selecionadas = ['Nome', 'Região', 'Mapa', 'População', 'Área', 'Idiomas']\n",
    "    df_formatado = df_formatado[colunas_selecionadas]\n",
    "    \n",
    "    df_formatado\n",
    "else:\n",
    "    print(\"Erro na solicitação da API. Código de status:\", response.status_code)"
   ]
  },
  {
   "cell_type": "code",
   "execution_count": 96,
   "metadata": {},
   "outputs": [
    {
     "data": {
      "text/html": [
       "<div>\n",
       "<style scoped>\n",
       "    .dataframe tbody tr th:only-of-type {\n",
       "        vertical-align: middle;\n",
       "    }\n",
       "\n",
       "    .dataframe tbody tr th {\n",
       "        vertical-align: top;\n",
       "    }\n",
       "\n",
       "    .dataframe thead th {\n",
       "        text-align: right;\n",
       "    }\n",
       "</style>\n",
       "<table border=\"1\" class=\"dataframe\">\n",
       "  <thead>\n",
       "    <tr style=\"text-align: right;\">\n",
       "      <th></th>\n",
       "      <th>Nome</th>\n",
       "      <th>Região</th>\n",
       "      <th>Mapa</th>\n",
       "      <th>População</th>\n",
       "      <th>Área</th>\n",
       "      <th>Idiomas</th>\n",
       "    </tr>\n",
       "  </thead>\n",
       "  <tbody>\n",
       "    <tr>\n",
       "      <th>0</th>\n",
       "      <td>Andorra</td>\n",
       "      <td>Europe</td>\n",
       "      <td>https://goo.gl/maps/JqAnacWE2qEznKgw7</td>\n",
       "      <td>77265.0</td>\n",
       "      <td>468.0</td>\n",
       "      <td>Catalan</td>\n",
       "    </tr>\n",
       "    <tr>\n",
       "      <th>1</th>\n",
       "      <td>French Southern and Antarctic Lands</td>\n",
       "      <td>Antarctic</td>\n",
       "      <td>https://goo.gl/maps/6ua6CX1m4w1xF2Em7</td>\n",
       "      <td>400.0</td>\n",
       "      <td>7747.0</td>\n",
       "      <td>French</td>\n",
       "    </tr>\n",
       "    <tr>\n",
       "      <th>2</th>\n",
       "      <td>Laos</td>\n",
       "      <td>Asia</td>\n",
       "      <td>https://goo.gl/maps/F3asVB7sRKgSnwbE7</td>\n",
       "      <td>7275556.0</td>\n",
       "      <td>236800.0</td>\n",
       "      <td>Lao</td>\n",
       "    </tr>\n",
       "    <tr>\n",
       "      <th>3</th>\n",
       "      <td>Canada</td>\n",
       "      <td>Americas</td>\n",
       "      <td>https://goo.gl/maps/jmEVLugreeqiZXxbA</td>\n",
       "      <td>38005238.0</td>\n",
       "      <td>9984670.0</td>\n",
       "      <td>English, French</td>\n",
       "    </tr>\n",
       "    <tr>\n",
       "      <th>4</th>\n",
       "      <td>Nigeria</td>\n",
       "      <td>Africa</td>\n",
       "      <td>https://goo.gl/maps/LTn417qWwBPFszuV9</td>\n",
       "      <td>206139587.0</td>\n",
       "      <td>923768.0</td>\n",
       "      <td>English</td>\n",
       "    </tr>\n",
       "    <tr>\n",
       "      <th>...</th>\n",
       "      <td>...</td>\n",
       "      <td>...</td>\n",
       "      <td>...</td>\n",
       "      <td>...</td>\n",
       "      <td>...</td>\n",
       "      <td>...</td>\n",
       "    </tr>\n",
       "    <tr>\n",
       "      <th>245</th>\n",
       "      <td>American Samoa</td>\n",
       "      <td>Oceania</td>\n",
       "      <td>https://goo.gl/maps/Re9ePMjwP1sFCBFA6</td>\n",
       "      <td>55197.0</td>\n",
       "      <td>199.0</td>\n",
       "      <td>English, Samoan</td>\n",
       "    </tr>\n",
       "    <tr>\n",
       "      <th>246</th>\n",
       "      <td>Venezuela</td>\n",
       "      <td>Americas</td>\n",
       "      <td>https://goo.gl/maps/KLCwDN8sec7z2kse9</td>\n",
       "      <td>28435943.0</td>\n",
       "      <td>916445.0</td>\n",
       "      <td>Spanish</td>\n",
       "    </tr>\n",
       "    <tr>\n",
       "      <th>247</th>\n",
       "      <td>Costa Rica</td>\n",
       "      <td>Americas</td>\n",
       "      <td>https://goo.gl/maps/RFiwytjvNrpfKN7k6</td>\n",
       "      <td>5094114.0</td>\n",
       "      <td>51100.0</td>\n",
       "      <td>Spanish</td>\n",
       "    </tr>\n",
       "    <tr>\n",
       "      <th>248</th>\n",
       "      <td>Puerto Rico</td>\n",
       "      <td>Americas</td>\n",
       "      <td>https://goo.gl/maps/sygfDbtwn389wu8x5</td>\n",
       "      <td>3194034.0</td>\n",
       "      <td>8870.0</td>\n",
       "      <td>English, Spanish</td>\n",
       "    </tr>\n",
       "    <tr>\n",
       "      <th>249</th>\n",
       "      <td>Seychelles</td>\n",
       "      <td>Africa</td>\n",
       "      <td>https://goo.gl/maps/aqCcy2TKh5TV5MAX8</td>\n",
       "      <td>98462.0</td>\n",
       "      <td>452.0</td>\n",
       "      <td>Seychellois Creole, English, French</td>\n",
       "    </tr>\n",
       "  </tbody>\n",
       "</table>\n",
       "<p>250 rows × 6 columns</p>\n",
       "</div>"
      ],
      "text/plain": [
       "                                    Nome     Região  \\\n",
       "0                                Andorra     Europe   \n",
       "1    French Southern and Antarctic Lands  Antarctic   \n",
       "2                                   Laos       Asia   \n",
       "3                                 Canada   Americas   \n",
       "4                                Nigeria     Africa   \n",
       "..                                   ...        ...   \n",
       "245                       American Samoa    Oceania   \n",
       "246                            Venezuela   Americas   \n",
       "247                           Costa Rica   Americas   \n",
       "248                          Puerto Rico   Americas   \n",
       "249                           Seychelles     Africa   \n",
       "\n",
       "                                      Mapa    População       Área  \\\n",
       "0    https://goo.gl/maps/JqAnacWE2qEznKgw7      77265.0      468.0   \n",
       "1    https://goo.gl/maps/6ua6CX1m4w1xF2Em7        400.0     7747.0   \n",
       "2    https://goo.gl/maps/F3asVB7sRKgSnwbE7    7275556.0   236800.0   \n",
       "3    https://goo.gl/maps/jmEVLugreeqiZXxbA   38005238.0  9984670.0   \n",
       "4    https://goo.gl/maps/LTn417qWwBPFszuV9  206139587.0   923768.0   \n",
       "..                                     ...          ...        ...   \n",
       "245  https://goo.gl/maps/Re9ePMjwP1sFCBFA6      55197.0      199.0   \n",
       "246  https://goo.gl/maps/KLCwDN8sec7z2kse9   28435943.0   916445.0   \n",
       "247  https://goo.gl/maps/RFiwytjvNrpfKN7k6    5094114.0    51100.0   \n",
       "248  https://goo.gl/maps/sygfDbtwn389wu8x5    3194034.0     8870.0   \n",
       "249  https://goo.gl/maps/aqCcy2TKh5TV5MAX8      98462.0      452.0   \n",
       "\n",
       "                                 Idiomas  \n",
       "0                                Catalan  \n",
       "1                                 French  \n",
       "2                                    Lao  \n",
       "3                        English, French  \n",
       "4                                English  \n",
       "..                                   ...  \n",
       "245                      English, Samoan  \n",
       "246                              Spanish  \n",
       "247                              Spanish  \n",
       "248                     English, Spanish  \n",
       "249  Seychellois Creole, English, French  \n",
       "\n",
       "[250 rows x 6 columns]"
      ]
     },
     "execution_count": 96,
     "metadata": {},
     "output_type": "execute_result"
    }
   ],
   "source": [
    "df_formatado\n"
   ]
  },
  {
   "cell_type": "markdown",
   "metadata": {},
   "source": [
    "Grafico de distribuição das regiões:"
   ]
  },
  {
   "cell_type": "code",
   "execution_count": 97,
   "metadata": {},
   "outputs": [
    {
     "data": {
      "image/png": "[encoded data removed]",
      "text/plain": [
       "<Figure size 640x480 with 1 Axes>"
      ]
     },
     "metadata": {},
     "output_type": "display_data"
    }
   ],
   "source": [
    "fig, ax = plt.subplots()\n",
    "df_formatado['Região'].value_counts().plot(kind='bar', title='Distribuição das Regiões', ax=ax)\n",
    "\n",
    "for i, v in enumerate(df_formatado['Região'].value_counts()):\n",
    "     ax.text(i, v + 0.1, str(v), ha='center', va='bottom')\n",
    "plt.show()"
   ]
  },
  {
   "cell_type": "markdown",
   "metadata": {},
   "source": [
    "Filtro de paises sem acesso ao mar:"
   ]
  },
  {
   "cell_type": "code",
   "execution_count": 98,
   "metadata": {},
   "outputs": [
    {
     "data": {
      "image/png": "[encoded data removed]",
      "text/plain": [
       "<Figure size 640x480 with 1 Axes>"
      ]
     },
     "metadata": {},
     "output_type": "display_data"
    }
   ],
   "source": [
    "fig, ax = plt.subplots()\n",
    "paises_sem_acesso_ao_mar['region'].value_counts().plot(kind='barh', title='Distribuição das Regiões (Sem Acesso ao Mar)', ax=ax)\n",
    "\n",
    "    # Adicione rótulos para cada barra\n",
    "for i, v in enumerate(paises_sem_acesso_ao_mar['region'].value_counts()):\n",
    "    ax.text(v + 0.1, i, str(v), ha='left', va='center')  # Ajuste para barras horizontais\n",
    "\n",
    "    # Exiba o gráfico\n",
    "plt.show()\n"
   ]
  },
  {
   "cell_type": "markdown",
   "metadata": {},
   "source": [
    "Função para deploy (salvar em um arquivo, banco de dados, etc.)\n"
   ]
  },
  {
   "cell_type": "code",
   "execution_count": 99,
   "metadata": {},
   "outputs": [],
   "source": [
    "deploy(df_formatado, \"dados_formatados.csv\", \"dados_formatados.db\")"
   ]
  }
 ],
 "metadata": {
  "kernelspec": {
   "display_name": "myenv",
   "language": "python",
   "name": "python3"
  },
  "language_info": {
   "codemirror_mode": {
    "name": "ipython",
    "version": 3
   },
   "file_extension": ".py",
   "mimetype": "text/x-python",
   "name": "python",
   "nbconvert_exporter": "python",
   "pygments_lexer": "ipython3",
   "version": "3.12.0"
  }
 },
 "nbformat": 4,
 "nbformat_minor": 2
}
