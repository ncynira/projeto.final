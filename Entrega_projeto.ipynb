{
 "cells": [
  {
   "cell_type": "markdown",
   "metadata": {},
   "source": [
    "Importando as bibliotecas necessárias\n"
   ]
  },
  {
   "cell_type": "code",
   "execution_count": 2,
   "metadata": {},
   "outputs": [],
   "source": [
    "import pandas as pd\n",
    "import requests\n",
    "import pdb\n",
    "from plyer import notification\n",
    "from datetime import datetime"
   ]
  },
  {
   "cell_type": "markdown",
   "metadata": {},
   "source": [
    "Conectando com a API"
   ]
  },
  {
   "cell_type": "code",
   "execution_count": 3,
   "metadata": {},
   "outputs": [],
   "source": [
    "url = \"https://restcountries.com/v3.1/all\"\n",
    "response = requests.get(url)"
   ]
  },
  {
   "cell_type": "markdown",
   "metadata": {},
   "source": [
    "Criando uma função de alerta para o status da conexão"
   ]
  },
  {
   "cell_type": "code",
   "execution_count": 4,
   "metadata": {},
   "outputs": [],
   "source": [
    "def alerta(codigo, base, etapa):\n",
    "    now = datetime.now()\n",
    "    formatted_now = now.strftime(\"%d/%m/%Y %H:%M:%S\")\n",
    "\n",
    "    msg = f\"Status do carregamento da base {base} na etapa {etapa}.\\n{formatted_now}\"\n",
    "\n",
    "    if response.status_code < 200 or response.status_code > 299:\n",
    "        title = f'Erro na conexão com a API. Código status: {response.status_code}'\n",
    "    else:\n",
    "        title = f'Conexão com a API bem-sucedida. Código status: {response.status_code}'\n",
    "        dados = response.json()\n",
    "        df = pd.DataFrame(dados)\n",
    "\n",
    "    notification.notify(\n",
    "            title=title,\n",
    "            message=msg,\n",
    "            app_name='alerta',\n",
    "            timeout=10\n",
    "        )\n",
    "\n",
    "alerta(codigo = response.status_code,\n",
    "        base = url,\n",
    "        etapa = \"Importação API\")"
   ]
  },
  {
   "cell_type": "markdown",
   "metadata": {},
   "source": [
    "Formando um Dataframe"
   ]
  },
  {
   "cell_type": "code",
   "execution_count": 5,
   "metadata": {},
   "outputs": [
    {
     "data": {
      "text/html": [
       "<div>\n",
       "<style scoped>\n",
       "    .dataframe tbody tr th:only-of-type {\n",
       "        vertical-align: middle;\n",
       "    }\n",
       "\n",
       "    .dataframe tbody tr th {\n",
       "        vertical-align: top;\n",
       "    }\n",
       "\n",
       "    .dataframe thead th {\n",
       "        text-align: right;\n",
       "    }\n",
       "</style>\n",
       "<table border=\"1\" class=\"dataframe\">\n",
       "  <thead>\n",
       "    <tr style=\"text-align: right;\">\n",
       "      <th></th>\n",
       "      <th>Nome</th>\n",
       "      <th>Região</th>\n",
       "      <th>Mapa</th>\n",
       "    </tr>\n",
       "  </thead>\n",
       "  <tbody>\n",
       "    <tr>\n",
       "      <th>0</th>\n",
       "      <td>Andorra</td>\n",
       "      <td>Europe</td>\n",
       "      <td>https://goo.gl/maps/JqAnacWE2qEznKgw7</td>\n",
       "    </tr>\n",
       "    <tr>\n",
       "      <th>1</th>\n",
       "      <td>French Southern and Antarctic Lands</td>\n",
       "      <td>Antarctic</td>\n",
       "      <td>https://goo.gl/maps/6ua6CX1m4w1xF2Em7</td>\n",
       "    </tr>\n",
       "    <tr>\n",
       "      <th>2</th>\n",
       "      <td>Laos</td>\n",
       "      <td>Asia</td>\n",
       "      <td>https://goo.gl/maps/F3asVB7sRKgSnwbE7</td>\n",
       "    </tr>\n",
       "    <tr>\n",
       "      <th>3</th>\n",
       "      <td>Canada</td>\n",
       "      <td>Americas</td>\n",
       "      <td>https://goo.gl/maps/jmEVLugreeqiZXxbA</td>\n",
       "    </tr>\n",
       "    <tr>\n",
       "      <th>4</th>\n",
       "      <td>Nigeria</td>\n",
       "      <td>Africa</td>\n",
       "      <td>https://goo.gl/maps/LTn417qWwBPFszuV9</td>\n",
       "    </tr>\n",
       "  </tbody>\n",
       "</table>\n",
       "</div>"
      ],
      "text/plain": [
       "                                  Nome     Região  \\\n",
       "0                              Andorra     Europe   \n",
       "1  French Southern and Antarctic Lands  Antarctic   \n",
       "2                                 Laos       Asia   \n",
       "3                               Canada   Americas   \n",
       "4                              Nigeria     Africa   \n",
       "\n",
       "                                    Mapa  \n",
       "0  https://goo.gl/maps/JqAnacWE2qEznKgw7  \n",
       "1  https://goo.gl/maps/6ua6CX1m4w1xF2Em7  \n",
       "2  https://goo.gl/maps/F3asVB7sRKgSnwbE7  \n",
       "3  https://goo.gl/maps/jmEVLugreeqiZXxbA  \n",
       "4  https://goo.gl/maps/LTn417qWwBPFszuV9  "
      ]
     },
     "execution_count": 5,
     "metadata": {},
     "output_type": "execute_result"
    }
   ],
   "source": [
    "if  response.status_code >= 200 and response.status_code <= 299:\n",
    "    dados = response.json()\n",
    "    df = pd.DataFrame(dados)\n",
    "\n",
    "df_formatado = pd.DataFrame(dados)\n",
    "df_formatado['Nome'] = df_formatado['name'].apply(lambda x: x['common'])\n",
    "df_formatado['Mapa'] = df_formatado['maps'].apply(lambda x: x['googleMaps'])\n",
    "df_formatado['Região'] = df_formatado['region']\n",
    "\n",
    "df_formatado['Nome'] = df_formatado['Nome'].astype(str)\n",
    "df_formatado['Região'] = df_formatado['Região'].astype(str)\n",
    "df_formatado['Mapa'] = df_formatado['Mapa'].astype(str)\n",
    "\n",
    "df_formatado = df_formatado[['Nome', 'Região', 'Mapa']]\n",
    "\n",
    "df_formatado.head()\n"
   ]
  },
  {
   "cell_type": "markdown",
   "metadata": {},
   "source": [
    "Colocando o resultado em um CSV\n"
   ]
  },
  {
   "cell_type": "code",
   "execution_count": 6,
   "metadata": {},
   "outputs": [],
   "source": [
    "df_formatado.to_csv('restcountries.csv', index=False)"
   ]
  }
 ],
 "metadata": {
  "kernelspec": {
   "display_name": "myenv",
   "language": "python",
   "name": "python3"
  },
  "language_info": {
   "codemirror_mode": {
    "name": "ipython",
    "version": 3
   },
   "file_extension": ".py",
   "mimetype": "text/x-python",
   "name": "python",
   "nbconvert_exporter": "python",
   "pygments_lexer": "ipython3",
   "version": "3.12.0"
  }
 },
 "nbformat": 4,
 "nbformat_minor": 2
}
