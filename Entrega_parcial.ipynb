{
 "cells": [
  {
   "cell_type": "markdown",
   "metadata": {},
   "source": [
    "Instalando bibliotecas"
   ]
  },
  {
   "cell_type": "code",
   "execution_count": 1,
   "metadata": {},
   "outputs": [
    {
     "name": "stdout",
     "output_type": "stream",
     "text": [
      "Requirement already satisfied: pandas in c:\\users\\naiara cynira\\envs\\myenv\\lib\\site-packages (2.1.4)\n",
      "Requirement already satisfied: numpy<2,>=1.26.0 in c:\\users\\naiara cynira\\envs\\myenv\\lib\\site-packages (from pandas) (1.26.3)\n",
      "Requirement already satisfied: python-dateutil>=2.8.2 in c:\\users\\naiara cynira\\envs\\myenv\\lib\\site-packages (from pandas) (2.8.2)\n",
      "Requirement already satisfied: pytz>=2020.1 in c:\\users\\naiara cynira\\envs\\myenv\\lib\\site-packages (from pandas) (2023.3.post1)\n",
      "Requirement already satisfied: tzdata>=2022.1 in c:\\users\\naiara cynira\\envs\\myenv\\lib\\site-packages (from pandas) (2023.4)\n",
      "Requirement already satisfied: six>=1.5 in c:\\users\\naiara cynira\\envs\\myenv\\lib\\site-packages (from python-dateutil>=2.8.2->pandas) (1.16.0)\n",
      "Note: you may need to restart the kernel to use updated packages.\n"
     ]
    },
    {
     "name": "stderr",
     "output_type": "stream",
     "text": [
      "\n",
      "[notice] A new release of pip is available: 23.3.1 -> 23.3.2\n",
      "[notice] To update, run: python.exe -m pip install --upgrade pip\n"
     ]
    }
   ],
   "source": [
    "pip install pandas\n"
   ]
  },
  {
   "cell_type": "code",
   "execution_count": 3,
   "metadata": {},
   "outputs": [
    {
     "name": "stdout",
     "output_type": "stream",
     "text": [
      "Requirement already satisfied: requests in c:\\users\\naiara cynira\\envs\\myenv\\lib\\site-packages (2.31.0)\n",
      "Requirement already satisfied: charset-normalizer<4,>=2 in c:\\users\\naiara cynira\\envs\\myenv\\lib\\site-packages (from requests) (3.3.2)\n",
      "Requirement already satisfied: idna<4,>=2.5 in c:\\users\\naiara cynira\\envs\\myenv\\lib\\site-packages (from requests) (3.6)\n",
      "Requirement already satisfied: urllib3<3,>=1.21.1 in c:\\users\\naiara cynira\\envs\\myenv\\lib\\site-packages (from requests) (2.1.0)\n",
      "Requirement already satisfied: certifi>=2017.4.17 in c:\\users\\naiara cynira\\envs\\myenv\\lib\\site-packages (from requests) (2023.11.17)\n",
      "Note: you may need to restart the kernel to use updated packages.\n"
     ]
    },
    {
     "name": "stderr",
     "output_type": "stream",
     "text": [
      "\n",
      "[notice] A new release of pip is available: 23.3.1 -> 23.3.2\n",
      "[notice] To update, run: python.exe -m pip install --upgrade pip\n"
     ]
    }
   ],
   "source": [
    "pip install requests"
   ]
  },
  {
   "cell_type": "code",
   "execution_count": 4,
   "metadata": {},
   "outputs": [
    {
     "name": "stdout",
     "output_type": "stream",
     "text": [
      "Requirement already satisfied: plyer in c:\\users\\naiara cynira\\envs\\myenv\\lib\\site-packages (2.1.0)Note: you may need to restart the kernel to use updated packages.\n",
      "\n"
     ]
    },
    {
     "name": "stderr",
     "output_type": "stream",
     "text": [
      "\n",
      "[notice] A new release of pip is available: 23.3.1 -> 23.3.2\n",
      "[notice] To update, run: python.exe -m pip install --upgrade pip\n"
     ]
    }
   ],
   "source": [
    "pip install plyer"
   ]
  },
  {
   "cell_type": "markdown",
   "metadata": {},
   "source": [
    "Importando as bibliotecas necessárias\n"
   ]
  },
  {
   "cell_type": "code",
   "execution_count": 5,
   "metadata": {},
   "outputs": [],
   "source": [
    "import pandas as pd\n",
    "import requests\n",
    "import pdb\n",
    "from plyer import notification\n",
    "from datetime import datetime"
   ]
  },
  {
   "cell_type": "markdown",
   "metadata": {},
   "source": [
    "Conectando com a API"
   ]
  },
  {
   "cell_type": "code",
   "execution_count": 6,
   "metadata": {},
   "outputs": [],
   "source": [
    "url = \"https://restcountries.com/v3.1/all\"\n",
    "response = requests.get(url)"
   ]
  },
  {
   "cell_type": "markdown",
   "metadata": {},
   "source": [
    "Criando uma função de alerta para o status da conexão"
   ]
  },
  {
   "cell_type": "code",
   "execution_count": 8,
   "metadata": {},
   "outputs": [],
   "source": [
    "def alerta(codigo, base, etapa):\n",
    "    now = datetime.now()\n",
    "    formatted_now = now.strftime(\"%d/%m/%Y %H:%M:%S\")\n",
    "\n",
    "    msg = f\"Status do carregamento da base {base} na etapa {etapa}.\\n{formatted_now}\"\n",
    "\n",
    "    if response.status_code < 200 or response.status_code > 299:\n",
    "        title = f'Erro na conexão com a API. Código status: {response.status_code}'\n",
    "    else:\n",
    "        title = f'Conexão com a API bem-sucedida. Código status: {response.status_code}'\n",
    "        dados = response.json()\n",
    "        df = pd.DataFrame(dados)\n",
    "\n",
    "    notification.notify(\n",
    "            title=title,\n",
    "            message=msg,\n",
    "            app_name='alerta',\n",
    "            timeout=10\n",
    "        )\n",
    "\n",
    "alerta(codigo = response.status_code,\n",
    "        base = url,\n",
    "        etapa = \"Importação API\")"
   ]
  },
  {
   "cell_type": "markdown",
   "metadata": {},
   "source": [
    "Formando um Dataframe"
   ]
  },
  {
   "cell_type": "code",
   "execution_count": 9,
   "metadata": {},
   "outputs": [
    {
     "data": {
      "text/html": [
       "<div>\n",
       "<style scoped>\n",
       "    .dataframe tbody tr th:only-of-type {\n",
       "        vertical-align: middle;\n",
       "    }\n",
       "\n",
       "    .dataframe tbody tr th {\n",
       "        vertical-align: top;\n",
       "    }\n",
       "\n",
       "    .dataframe thead th {\n",
       "        text-align: right;\n",
       "    }\n",
       "</style>\n",
       "<table border=\"1\" class=\"dataframe\">\n",
       "  <thead>\n",
       "    <tr style=\"text-align: right;\">\n",
       "      <th></th>\n",
       "      <th>Nome</th>\n",
       "      <th>Região</th>\n",
       "      <th>Mapa</th>\n",
       "    </tr>\n",
       "  </thead>\n",
       "  <tbody>\n",
       "    <tr>\n",
       "      <th>0</th>\n",
       "      <td>Andorra</td>\n",
       "      <td>Europe</td>\n",
       "      <td>https://goo.gl/maps/JqAnacWE2qEznKgw7</td>\n",
       "    </tr>\n",
       "    <tr>\n",
       "      <th>1</th>\n",
       "      <td>French Southern and Antarctic Lands</td>\n",
       "      <td>Antarctic</td>\n",
       "      <td>https://goo.gl/maps/6ua6CX1m4w1xF2Em7</td>\n",
       "    </tr>\n",
       "    <tr>\n",
       "      <th>2</th>\n",
       "      <td>Laos</td>\n",
       "      <td>Asia</td>\n",
       "      <td>https://goo.gl/maps/F3asVB7sRKgSnwbE7</td>\n",
       "    </tr>\n",
       "    <tr>\n",
       "      <th>3</th>\n",
       "      <td>Canada</td>\n",
       "      <td>Americas</td>\n",
       "      <td>https://goo.gl/maps/jmEVLugreeqiZXxbA</td>\n",
       "    </tr>\n",
       "    <tr>\n",
       "      <th>4</th>\n",
       "      <td>Nigeria</td>\n",
       "      <td>Africa</td>\n",
       "      <td>https://goo.gl/maps/LTn417qWwBPFszuV9</td>\n",
       "    </tr>\n",
       "  </tbody>\n",
       "</table>\n",
       "</div>"
      ],
      "text/plain": [
       "                                  Nome     Região  \\\n",
       "0                              Andorra     Europe   \n",
       "1  French Southern and Antarctic Lands  Antarctic   \n",
       "2                                 Laos       Asia   \n",
       "3                               Canada   Americas   \n",
       "4                              Nigeria     Africa   \n",
       "\n",
       "                                    Mapa  \n",
       "0  https://goo.gl/maps/JqAnacWE2qEznKgw7  \n",
       "1  https://goo.gl/maps/6ua6CX1m4w1xF2Em7  \n",
       "2  https://goo.gl/maps/F3asVB7sRKgSnwbE7  \n",
       "3  https://goo.gl/maps/jmEVLugreeqiZXxbA  \n",
       "4  https://goo.gl/maps/LTn417qWwBPFszuV9  "
      ]
     },
     "execution_count": 9,
     "metadata": {},
     "output_type": "execute_result"
    }
   ],
   "source": [
    "if  response.status_code >= 200 and response.status_code <= 299:\n",
    "    dados = response.json()\n",
    "    df = pd.DataFrame(dados)\n",
    "\n",
    "df_formatado = pd.DataFrame(dados)\n",
    "df_formatado['Nome'] = df_formatado['name'].apply(lambda x: x['common'])\n",
    "df_formatado['Mapa'] = df_formatado['maps'].apply(lambda x: x['googleMaps'])\n",
    "df_formatado['Região'] = df_formatado['region']\n",
    "\n",
    "df_formatado = df_formatado[['Nome', 'Região', 'Mapa']]\n",
    "\n",
    "df_formatado.head()"
   ]
  }
 ],
 "metadata": {
  "kernelspec": {
   "display_name": "myenv",
   "language": "python",
   "name": "python3"
  },
  "language_info": {
   "codemirror_mode": {
    "name": "ipython",
    "version": 3
   },
   "file_extension": ".py",
   "mimetype": "text/x-python",
   "name": "python",
   "nbconvert_exporter": "python",
   "pygments_lexer": "ipython3",
   "version": "3.12.0"
  }
 },
 "nbformat": 4,
 "nbformat_minor": 2
}
